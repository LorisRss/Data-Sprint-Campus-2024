{
 "cells": [
  {
   "cell_type": "markdown",
   "id": "c791ebaf-a154-4d9d-8b2a-494b0c06a6be",
   "metadata": {},
   "source": [
    "# Data sprint campus 2024"
   ]
  },
  {
   "cell_type": "code",
   "execution_count": 29,
   "id": "c04bfede-1359-4a28-a3ff-4103e01c7ba8",
   "metadata": {},
   "outputs": [],
   "source": [
    "import pandas as pd"
   ]
  },
  {
   "cell_type": "code",
   "execution_count": 30,
   "id": "f4761fe9-bd0a-4c23-899f-cc11b8b71e3c",
   "metadata": {},
   "outputs": [],
   "source": [
    "df = pd.read_csv(\"Datasets/objets-trouves-restitution.csv\", sep=\";\")"
   ]
  },
  {
   "cell_type": "code",
   "execution_count": 31,
   "id": "0d11ab54-595c-4cad-9d09-6894bb4e72eb",
   "metadata": {},
   "outputs": [
    {
     "data": {
      "text/html": [
       "<div>\n",
       "<style scoped>\n",
       "    .dataframe tbody tr th:only-of-type {\n",
       "        vertical-align: middle;\n",
       "    }\n",
       "\n",
       "    .dataframe tbody tr th {\n",
       "        vertical-align: top;\n",
       "    }\n",
       "\n",
       "    .dataframe thead th {\n",
       "        text-align: right;\n",
       "    }\n",
       "</style>\n",
       "<table border=\"1\" class=\"dataframe\">\n",
       "  <thead>\n",
       "    <tr style=\"text-align: right;\">\n",
       "      <th></th>\n",
       "      <th>Date</th>\n",
       "      <th>Date et heure de restitution</th>\n",
       "      <th>Gare</th>\n",
       "      <th>Code UIC</th>\n",
       "      <th>Nature d'objets</th>\n",
       "      <th>Type d'objets</th>\n",
       "      <th>Type d'enregistrement</th>\n",
       "    </tr>\n",
       "  </thead>\n",
       "  <tbody>\n",
       "    <tr>\n",
       "      <th>0</th>\n",
       "      <td>2019-02-11T19:02:12+01:00</td>\n",
       "      <td>NaN</td>\n",
       "      <td>Paris Montparnasse</td>\n",
       "      <td>87391003.0</td>\n",
       "      <td>Clés, porte-clés</td>\n",
       "      <td>Clés, porte-clés, badge magnétique</td>\n",
       "      <td>Objet trouvé</td>\n",
       "    </tr>\n",
       "    <tr>\n",
       "      <th>1</th>\n",
       "      <td>2019-02-11T19:16:03+01:00</td>\n",
       "      <td>2019-02-23T16:55:32+01:00</td>\n",
       "      <td>Strasbourg</td>\n",
       "      <td>87212027.0</td>\n",
       "      <td>Sac à dos</td>\n",
       "      <td>Bagagerie: sacs, valises, cartables</td>\n",
       "      <td>Objet trouvé</td>\n",
       "    </tr>\n",
       "    <tr>\n",
       "      <th>2</th>\n",
       "      <td>2019-02-11T19:52:16+01:00</td>\n",
       "      <td>2019-02-22T17:05:10+01:00</td>\n",
       "      <td>Saint-Étienne Châteaucreux</td>\n",
       "      <td>87726000.0</td>\n",
       "      <td>Porte-monnaie, portefeuille</td>\n",
       "      <td>Porte-monnaie / portefeuille, argent, titres</td>\n",
       "      <td>Objet trouvé</td>\n",
       "    </tr>\n",
       "    <tr>\n",
       "      <th>3</th>\n",
       "      <td>2019-02-11T20:00:28+01:00</td>\n",
       "      <td>NaN</td>\n",
       "      <td>Paris Montparnasse</td>\n",
       "      <td>87391003.0</td>\n",
       "      <td>Chaussures (autre que chaussures de ski et pat...</td>\n",
       "      <td>Vêtements, chaussures</td>\n",
       "      <td>Objet trouvé</td>\n",
       "    </tr>\n",
       "    <tr>\n",
       "      <th>4</th>\n",
       "      <td>2019-02-11T20:14:26+01:00</td>\n",
       "      <td>NaN</td>\n",
       "      <td>Paris Montparnasse</td>\n",
       "      <td>87391003.0</td>\n",
       "      <td>Carte de crédit</td>\n",
       "      <td>Porte-monnaie / portefeuille, argent, titres</td>\n",
       "      <td>Objet trouvé</td>\n",
       "    </tr>\n",
       "  </tbody>\n",
       "</table>\n",
       "</div>"
      ],
      "text/plain": [
       "                        Date Date et heure de restitution  \\\n",
       "0  2019-02-11T19:02:12+01:00                          NaN   \n",
       "1  2019-02-11T19:16:03+01:00    2019-02-23T16:55:32+01:00   \n",
       "2  2019-02-11T19:52:16+01:00    2019-02-22T17:05:10+01:00   \n",
       "3  2019-02-11T20:00:28+01:00                          NaN   \n",
       "4  2019-02-11T20:14:26+01:00                          NaN   \n",
       "\n",
       "                         Gare    Code UIC  \\\n",
       "0          Paris Montparnasse  87391003.0   \n",
       "1                  Strasbourg  87212027.0   \n",
       "2  Saint-Étienne Châteaucreux  87726000.0   \n",
       "3          Paris Montparnasse  87391003.0   \n",
       "4          Paris Montparnasse  87391003.0   \n",
       "\n",
       "                                     Nature d'objets  \\\n",
       "0                                   Clés, porte-clés   \n",
       "1                                          Sac à dos   \n",
       "2                        Porte-monnaie, portefeuille   \n",
       "3  Chaussures (autre que chaussures de ski et pat...   \n",
       "4                                    Carte de crédit   \n",
       "\n",
       "                                  Type d'objets Type d'enregistrement  \n",
       "0            Clés, porte-clés, badge magnétique          Objet trouvé  \n",
       "1           Bagagerie: sacs, valises, cartables          Objet trouvé  \n",
       "2  Porte-monnaie / portefeuille, argent, titres          Objet trouvé  \n",
       "3                         Vêtements, chaussures          Objet trouvé  \n",
       "4  Porte-monnaie / portefeuille, argent, titres          Objet trouvé  "
      ]
     },
     "execution_count": 31,
     "metadata": {},
     "output_type": "execute_result"
    }
   ],
   "source": [
    "df.head()"
   ]
  },
  {
   "cell_type": "markdown",
   "id": "4b575ca2-cd66-42c7-ae52-b39d3ea5499d",
   "metadata": {},
   "source": [
    "## 1 - Composition du fichier "
   ]
  },
  {
   "cell_type": "markdown",
   "id": "6e4c88b1-032e-42b5-adf5-648ef40cd386",
   "metadata": {},
   "source": [
    "Ce jeu de données représente l'intégralité des déclarations de pertes faites par les clients de la SNCF (Par date). Elle enregistre aussi la date de restitution des éléments perdus. \n",
    "\n",
    "**Le tableau est composée de 7 colonnes qui représentent :**\n",
    "1. La date de déclaration\n",
    "2. La date et l'heure de restitution\n",
    "3. La Gare\n",
    "4. Code IUC\n",
    "5. La Nature de l'objets\n",
    "6. Type d'objets\n",
    "7. Type d'enregistrement"
   ]
  },
  {
   "cell_type": "markdown",
   "id": "775cb0fc-c709-44c9-86fb-599ad82b6a87",
   "metadata": {},
   "source": [
    "## 2 - Dimensionnalité du jeux de données"
   ]
  },
  {
   "cell_type": "code",
   "execution_count": 32,
   "id": "01540ba4-4630-4154-a96e-e934b9f6b3d9",
   "metadata": {},
   "outputs": [
    {
     "name": "stdout",
     "output_type": "stream",
     "text": [
      "La dimension du jeux de données est comme suit :\n",
      "---------\n",
      "Lignes : 460000\n",
      "Colonnes : 7\n"
     ]
    }
   ],
   "source": [
    "print(\"La dimension du jeux de données est comme suit :\")\n",
    "print(\"---\"*3)\n",
    "print(f\"Lignes : {df.shape[0]}\")\n",
    "print(f\"Colonnes : {df.shape[1]}\")"
   ]
  },
  {
   "cell_type": "markdown",
   "id": "ddb3c1cc-2638-47af-ab56-7c8ea3dbe9c6",
   "metadata": {},
   "source": [
    "### 3 - Type de données"
   ]
  },
  {
   "cell_type": "markdown",
   "id": "1c488fa1-98f7-4c87-ba6e-f6aa78764ce8",
   "metadata": {},
   "source": [
    "#### 3.1 - Données de type date"
   ]
  },
  {
   "cell_type": "code",
   "execution_count": 33,
   "id": "f92ffa7a-f768-43e3-b786-96c0f13c3bcf",
   "metadata": {},
   "outputs": [],
   "source": [
    "# Conversion date\n",
    "df[\"Date\"] = pd.to_datetime(df[\"Date\"], utc=True)"
   ]
  },
  {
   "cell_type": "code",
   "execution_count": 36,
   "id": "56aca831-c9be-475b-8bf4-09f9b4f2a1ea",
   "metadata": {},
   "outputs": [],
   "source": [
    "df[\"Date et heure de restitution\"] = pd.to_datetime(df[\"Date et heure de restitution\"], utc=True)"
   ]
  },
  {
   "cell_type": "code",
   "execution_count": 37,
   "id": "0e0122c8-b343-4f80-9efa-3fa78b2ebaa3",
   "metadata": {},
   "outputs": [
    {
     "data": {
      "text/plain": [
       "Date                            datetime64[ns, UTC]\n",
       "Date et heure de restitution    datetime64[ns, UTC]\n",
       "Gare                                         object\n",
       "Code UIC                                    float64\n",
       "Nature d'objets                              object\n",
       "Type d'objets                                object\n",
       "Type d'enregistrement                        object\n",
       "dtype: object"
      ]
     },
     "execution_count": 37,
     "metadata": {},
     "output_type": "execute_result"
    }
   ],
   "source": [
    "df.dtypes"
   ]
  },
  {
   "cell_type": "code",
   "execution_count": 45,
   "id": "7a2d5f16-347c-4ce9-915a-a3b70a2bf022",
   "metadata": {},
   "outputs": [
    {
     "name": "stdout",
     "output_type": "stream",
     "text": [
      "2017-12-03 05:40:30+00:00\n",
      "2024-05-01 18:57:07+00:00\n"
     ]
    }
   ],
   "source": [
    "# Répartitions des dates\n",
    "print(df.Date.min())\n",
    "print(df.Date.max())"
   ]
  },
  {
   "cell_type": "markdown",
   "id": "8da83b9f-a77d-44b8-a897-c65a6bce18be",
   "metadata": {},
   "source": [
    "#### 3.1 - Données catégoriels"
   ]
  },
  {
   "cell_type": "code",
   "execution_count": 42,
   "id": "8e0a6e67-e4f8-46c9-93f8-2581fb07a998",
   "metadata": {},
   "outputs": [
    {
     "name": "stdout",
     "output_type": "stream",
     "text": [
      "voici toute les gares: \n",
      "1\n",
      "2\n",
      "3\n",
      "4\n"
     ]
    },
    {
     "data": {
      "text/plain": [
       "[None, None, None, None]"
      ]
     },
     "execution_count": 42,
     "metadata": {},
     "output_type": "execute_result"
    }
   ],
   "source": [
    "print(\"voici toute les gares: \")\n",
    "[print(i) for i in list(range(1, 5))]"
   ]
  },
  {
   "cell_type": "markdown",
   "id": "9fd8e05f-83b9-4578-b384-1b6dd6bc3655",
   "metadata": {},
   "source": [
    "#### 3.2 - Données numériques"
   ]
  },
  {
   "cell_type": "code",
   "execution_count": null,
   "id": "ec0fe325-8a50-4575-862e-cf8416b06576",
   "metadata": {},
   "outputs": [],
   "source": []
  },
  {
   "cell_type": "markdown",
   "id": "625c884b-2c81-4e76-a285-1f1dcdf44411",
   "metadata": {},
   "source": []
  }
 ],
 "metadata": {
  "kernelspec": {
   "display_name": "Python 3 (ipykernel)",
   "language": "python",
   "name": "python3"
  },
  "language_info": {
   "codemirror_mode": {
    "name": "ipython",
    "version": 3
   },
   "file_extension": ".py",
   "mimetype": "text/x-python",
   "name": "python",
   "nbconvert_exporter": "python",
   "pygments_lexer": "ipython3",
   "version": "3.12.1"
  }
 },
 "nbformat": 4,
 "nbformat_minor": 5
}
