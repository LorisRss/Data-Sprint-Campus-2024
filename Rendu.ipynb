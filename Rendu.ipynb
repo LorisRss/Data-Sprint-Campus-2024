{
 "cells": [
  {
   "cell_type": "markdown",
   "id": "c791ebaf-a154-4d9d-8b2a-494b0c06a6be",
   "metadata": {},
   "source": [
    "# Data sprint campus 2024"
   ]
  },
  {
   "cell_type": "markdown",
   "id": "2ab380b8-a1ca-47e2-9000-8f2c1e6f6889",
   "metadata": {},
   "source": [
    "Lecture du jeux de données avec `Pandas` en faisant attention au séparateur \";\""
   ]
  },
  {
   "cell_type": "code",
   "execution_count": 2,
   "id": "c04bfede-1359-4a28-a3ff-4103e01c7ba8",
   "metadata": {},
   "outputs": [],
   "source": [
    "import pandas as pd"
   ]
  },
  {
   "cell_type": "code",
   "execution_count": 3,
   "id": "f4761fe9-bd0a-4c23-899f-cc11b8b71e3c",
   "metadata": {},
   "outputs": [],
   "source": [
    "df = pd.read_csv(\"Datasets/objets-trouves-restitution.csv\", sep=\";\")"
   ]
  },
  {
   "cell_type": "code",
   "execution_count": 4,
   "id": "0d11ab54-595c-4cad-9d09-6894bb4e72eb",
   "metadata": {},
   "outputs": [
    {
     "data": {
      "text/html": [
       "<div>\n",
       "<style scoped>\n",
       "    .dataframe tbody tr th:only-of-type {\n",
       "        vertical-align: middle;\n",
       "    }\n",
       "\n",
       "    .dataframe tbody tr th {\n",
       "        vertical-align: top;\n",
       "    }\n",
       "\n",
       "    .dataframe thead th {\n",
       "        text-align: right;\n",
       "    }\n",
       "</style>\n",
       "<table border=\"1\" class=\"dataframe\">\n",
       "  <thead>\n",
       "    <tr style=\"text-align: right;\">\n",
       "      <th></th>\n",
       "      <th>Date</th>\n",
       "      <th>Date et heure de restitution</th>\n",
       "      <th>Gare</th>\n",
       "      <th>Code UIC</th>\n",
       "      <th>Nature d'objets</th>\n",
       "      <th>Type d'objets</th>\n",
       "      <th>Type d'enregistrement</th>\n",
       "    </tr>\n",
       "  </thead>\n",
       "  <tbody>\n",
       "    <tr>\n",
       "      <th>0</th>\n",
       "      <td>2019-02-11T19:02:12+01:00</td>\n",
       "      <td>NaN</td>\n",
       "      <td>Paris Montparnasse</td>\n",
       "      <td>87391003.0</td>\n",
       "      <td>Clés, porte-clés</td>\n",
       "      <td>Clés, porte-clés, badge magnétique</td>\n",
       "      <td>Objet trouvé</td>\n",
       "    </tr>\n",
       "    <tr>\n",
       "      <th>1</th>\n",
       "      <td>2019-02-11T19:16:03+01:00</td>\n",
       "      <td>2019-02-23T16:55:32+01:00</td>\n",
       "      <td>Strasbourg</td>\n",
       "      <td>87212027.0</td>\n",
       "      <td>Sac à dos</td>\n",
       "      <td>Bagagerie: sacs, valises, cartables</td>\n",
       "      <td>Objet trouvé</td>\n",
       "    </tr>\n",
       "    <tr>\n",
       "      <th>2</th>\n",
       "      <td>2019-02-11T19:52:16+01:00</td>\n",
       "      <td>2019-02-22T17:05:10+01:00</td>\n",
       "      <td>Saint-Étienne Châteaucreux</td>\n",
       "      <td>87726000.0</td>\n",
       "      <td>Porte-monnaie, portefeuille</td>\n",
       "      <td>Porte-monnaie / portefeuille, argent, titres</td>\n",
       "      <td>Objet trouvé</td>\n",
       "    </tr>\n",
       "    <tr>\n",
       "      <th>3</th>\n",
       "      <td>2019-02-11T20:00:28+01:00</td>\n",
       "      <td>NaN</td>\n",
       "      <td>Paris Montparnasse</td>\n",
       "      <td>87391003.0</td>\n",
       "      <td>Chaussures (autre que chaussures de ski et pat...</td>\n",
       "      <td>Vêtements, chaussures</td>\n",
       "      <td>Objet trouvé</td>\n",
       "    </tr>\n",
       "    <tr>\n",
       "      <th>4</th>\n",
       "      <td>2019-02-11T20:14:26+01:00</td>\n",
       "      <td>NaN</td>\n",
       "      <td>Paris Montparnasse</td>\n",
       "      <td>87391003.0</td>\n",
       "      <td>Carte de crédit</td>\n",
       "      <td>Porte-monnaie / portefeuille, argent, titres</td>\n",
       "      <td>Objet trouvé</td>\n",
       "    </tr>\n",
       "  </tbody>\n",
       "</table>\n",
       "</div>"
      ],
      "text/plain": [
       "                        Date Date et heure de restitution  \\\n",
       "0  2019-02-11T19:02:12+01:00                          NaN   \n",
       "1  2019-02-11T19:16:03+01:00    2019-02-23T16:55:32+01:00   \n",
       "2  2019-02-11T19:52:16+01:00    2019-02-22T17:05:10+01:00   \n",
       "3  2019-02-11T20:00:28+01:00                          NaN   \n",
       "4  2019-02-11T20:14:26+01:00                          NaN   \n",
       "\n",
       "                         Gare    Code UIC  \\\n",
       "0          Paris Montparnasse  87391003.0   \n",
       "1                  Strasbourg  87212027.0   \n",
       "2  Saint-Étienne Châteaucreux  87726000.0   \n",
       "3          Paris Montparnasse  87391003.0   \n",
       "4          Paris Montparnasse  87391003.0   \n",
       "\n",
       "                                     Nature d'objets  \\\n",
       "0                                   Clés, porte-clés   \n",
       "1                                          Sac à dos   \n",
       "2                        Porte-monnaie, portefeuille   \n",
       "3  Chaussures (autre que chaussures de ski et pat...   \n",
       "4                                    Carte de crédit   \n",
       "\n",
       "                                  Type d'objets Type d'enregistrement  \n",
       "0            Clés, porte-clés, badge magnétique          Objet trouvé  \n",
       "1           Bagagerie: sacs, valises, cartables          Objet trouvé  \n",
       "2  Porte-monnaie / portefeuille, argent, titres          Objet trouvé  \n",
       "3                         Vêtements, chaussures          Objet trouvé  \n",
       "4  Porte-monnaie / portefeuille, argent, titres          Objet trouvé  "
      ]
     },
     "execution_count": 4,
     "metadata": {},
     "output_type": "execute_result"
    }
   ],
   "source": [
    "df.head()"
   ]
  },
  {
   "cell_type": "markdown",
   "id": "4b575ca2-cd66-42c7-ae52-b39d3ea5499d",
   "metadata": {},
   "source": [
    "## 1 - Composition du fichier "
   ]
  },
  {
   "cell_type": "markdown",
   "id": "6e4c88b1-032e-42b5-adf5-648ef40cd386",
   "metadata": {},
   "source": [
    "Ce jeu de données représente l'intégralité des déclarations de pertes faites par les clients de la SNCF (Par date). Elle enregistre aussi la date de restitution des éléments perdus. \n",
    "\n",
    "**Le tableau est composée de 7 colonnes qui représentent :**\n",
    "1. La date de déclaration\n",
    "2. La date et l'heure de restitution\n",
    "3. La Gare\n",
    "4. Code IUC\n",
    "5. La Nature de l'objets\n",
    "6. Type d'objets\n",
    "7. Type d'enregistrement"
   ]
  },
  {
   "cell_type": "markdown",
   "id": "775cb0fc-c709-44c9-86fb-599ad82b6a87",
   "metadata": {},
   "source": [
    "## 2 - Dimensionnalité du jeux de données"
   ]
  },
  {
   "cell_type": "markdown",
   "id": "aa52f1a1-6124-4c58-84f7-a9744fa6365c",
   "metadata": {},
   "source": [
    "La dimension du jeux de données est comme suit :"
   ]
  },
  {
   "cell_type": "code",
   "execution_count": 5,
   "id": "01540ba4-4630-4154-a96e-e934b9f6b3d9",
   "metadata": {},
   "outputs": [
    {
     "name": "stdout",
     "output_type": "stream",
     "text": [
      "---------\n",
      "Lignes : 460000\n",
      "Colonnes : 7\n"
     ]
    }
   ],
   "source": [
    "print(\"---\"*3)\n",
    "print(f\"Lignes : {df.shape[0]}\")\n",
    "print(f\"Colonnes : {df.shape[1]}\")"
   ]
  },
  {
   "cell_type": "markdown",
   "id": "ddb3c1cc-2638-47af-ab56-7c8ea3dbe9c6",
   "metadata": {},
   "source": [
    "### 3 - Type de données"
   ]
  },
  {
   "cell_type": "markdown",
   "id": "1c488fa1-98f7-4c87-ba6e-f6aa78764ce8",
   "metadata": {},
   "source": [
    "#### 3.1 - Données de type date\n",
    "Les colonnes : \n",
    "- Dates\n",
    "- Date et heure de restitution\n",
    "\n",
    "Sont des dates conservé dans des éléments de types object. Il nécessite une conversion pour voir l'étendu entre les dates (plus ancien et plus récent)"
   ]
  },
  {
   "cell_type": "code",
   "execution_count": 6,
   "id": "f92ffa7a-f768-43e3-b786-96c0f13c3bcf",
   "metadata": {},
   "outputs": [],
   "source": [
    "# Conversion date\n",
    "df[\"Date\"] = pd.to_datetime(df[\"Date\"], utc=True)"
   ]
  },
  {
   "cell_type": "code",
   "execution_count": 7,
   "id": "56aca831-c9be-475b-8bf4-09f9b4f2a1ea",
   "metadata": {},
   "outputs": [],
   "source": [
    "df[\"Date et heure de restitution\"] = pd.to_datetime(df[\"Date et heure de restitution\"], utc=True)"
   ]
  },
  {
   "cell_type": "code",
   "execution_count": 8,
   "id": "0e0122c8-b343-4f80-9efa-3fa78b2ebaa3",
   "metadata": {},
   "outputs": [
    {
     "data": {
      "text/plain": [
       "Date                            datetime64[ns, UTC]\n",
       "Date et heure de restitution    datetime64[ns, UTC]\n",
       "Gare                                         object\n",
       "Code UIC                                    float64\n",
       "Nature d'objets                              object\n",
       "Type d'objets                                object\n",
       "Type d'enregistrement                        object\n",
       "dtype: object"
      ]
     },
     "execution_count": 8,
     "metadata": {},
     "output_type": "execute_result"
    }
   ],
   "source": [
    "df.dtypes"
   ]
  },
  {
   "cell_type": "markdown",
   "id": "c57771a1-1af0-4c69-89a5-fd75a4af8cff",
   "metadata": {},
   "source": [
    "**Colonne Date : Les dates courent entre 2017 et 2024** "
   ]
  },
  {
   "cell_type": "code",
   "execution_count": 9,
   "id": "7a2d5f16-347c-4ce9-915a-a3b70a2bf022",
   "metadata": {},
   "outputs": [
    {
     "name": "stdout",
     "output_type": "stream",
     "text": [
      "2017-12-03 05:40:30+00:00\n",
      "2024-05-01 18:57:07+00:00\n"
     ]
    }
   ],
   "source": [
    "print(df.Date.min())\n",
    "print(df.Date.max())"
   ]
  },
  {
   "cell_type": "markdown",
   "id": "4d4d53ac-533e-4043-8274-439aea6494bc",
   "metadata": {},
   "source": [
    "**Colonne Date et heure de restitution : Les dates courent entre 2017 et 2024** "
   ]
  },
  {
   "cell_type": "code",
   "execution_count": 10,
   "id": "7db2e7c3-3819-4140-ac5c-9e0f770eb0d5",
   "metadata": {},
   "outputs": [
    {
     "name": "stdout",
     "output_type": "stream",
     "text": [
      "2017-12-03 12:38:53+00:00\n",
      "2024-09-14 11:02:10+00:00\n"
     ]
    }
   ],
   "source": [
    "print(df[\"Date et heure de restitution\"].min())\n",
    "print(df[\"Date et heure de restitution\"].max())"
   ]
  },
  {
   "cell_type": "markdown",
   "id": "8da83b9f-a77d-44b8-a897-c65a6bce18be",
   "metadata": {},
   "source": [
    "#### 3.1 - Données catégoriels\n",
    "- Le Type d'enregistrement est un données catégoriel enregistré dans entant que object. elle ne contient qu'un la chaine de caractère \"Objet trouvé\""
   ]
  },
  {
   "cell_type": "code",
   "execution_count": 11,
   "id": "8e0a6e67-e4f8-46c9-93f8-2581fb07a998",
   "metadata": {},
   "outputs": [
    {
     "name": "stdout",
     "output_type": "stream",
     "text": [
      "['Objet trouvé']\n",
      "1\n"
     ]
    }
   ],
   "source": [
    "print(df[\"Type d'enregistrement\"].unique())\n",
    "print(df[\"Type d'enregistrement\"].nunique())"
   ]
  },
  {
   "cell_type": "code",
   "execution_count": 12,
   "id": "8fa6da02-444e-4425-995e-7304984a58b2",
   "metadata": {},
   "outputs": [],
   "source": [
    "nb_gare_unique = df[\"Gare\"].nunique()\n",
    "gare_unique = df[\"Gare\"].unique()\n",
    "nb_Nature_objets = df[\"Nature d'objets\"].nunique()\n",
    "nature_objet_unique = df[\"Nature d\\'objets\"].unique()\n",
    "nb_type_objets = df[\"Type d\\'objets\"].nunique()\n",
    "type_obj_unique = df[\"Type d\\'objets\"].unique()"
   ]
  },
  {
   "cell_type": "code",
   "execution_count": 13,
   "id": "54c4d7b2-60b6-461e-834d-af5dfc19217c",
   "metadata": {},
   "outputs": [
    {
     "name": "stdout",
     "output_type": "stream",
     "text": [
      "Voici tous les type d'objet uniques présentes dans la catégorie 'Type d'objet' du Data Frame :\n",
      "- Clés, porte-clés, badge magnétique\n",
      "- Bagagerie: sacs, valises, cartables\n",
      "- Porte-monnaie / portefeuille, argent, titres\n",
      "- Vêtements, chaussures\n",
      "- Appareils électroniques, informatiques, appareils photo\n",
      "- Optique\n",
      "- Livres, articles de papéterie\n",
      "- Divers\n",
      "- Pièces d'identités et papiers personnels\n",
      "- Vélos, trottinettes, accessoires 2 roues\n",
      "- Bijoux, montres\n",
      "- Parapluies\n",
      "- Articles médicaux\n",
      "- Instruments de musique\n",
      "- Articles d'enfants, de puériculture\n",
      "- Articles de sport, loisirs, camping\n",
      "---------\n",
      "Voici le nombre de gare total : 16\n"
     ]
    }
   ],
   "source": [
    "print(\"Voici tous les type d'objet uniques présentes dans la catégorie 'Type d'objet' du Data Frame :\")\n",
    "# Pour afficher et enlever la liste dans le print. Compréhension de liste.\n",
    "[print(f\"- {obj_unique}\") for obj_unique in type_obj_unique]\n",
    "print(\"---\"*3)\n",
    "print(f'Voici le nombre de gare total : {nb_type_objets}')"
   ]
  },
  {
   "cell_type": "code",
   "execution_count": 14,
   "id": "a151d528-ef39-4cae-881c-c836386cb6a4",
   "metadata": {},
   "outputs": [
    {
     "name": "stdout",
     "output_type": "stream",
     "text": [
      "Voici toutes les valeurs nulles dans toutes les catégories du DataFrame :\n",
      "- Date : 0\n",
      "- Date et heure de restitution : 262303\n",
      "- Gare : 139\n",
      "- Code UIC : 139\n",
      "- Nature d'objets : 0\n",
      "- Type d'objets : 0\n",
      "- Type d'enregistrement : 0\n"
     ]
    }
   ],
   "source": [
    "print(\"Voici toutes les valeurs nulles dans toutes les catégories du DataFrame :\")\n",
    "for col in df.columns:\n",
    "    print(f'- {col} : {df[col].isna().sum()}')"
   ]
  },
  {
   "cell_type": "markdown",
   "id": "9fd8e05f-83b9-4578-b384-1b6dd6bc3655",
   "metadata": {},
   "source": [
    "#### 3.2 - Données numériques\n",
    "Code UIC est les données de type float64 sa répartition est entre (87111849.0 minimum et 87784009.0 maximum)"
   ]
  },
  {
   "cell_type": "code",
   "execution_count": 24,
   "id": "d3512955-9344-44a7-a2aa-37b05e045e85",
   "metadata": {},
   "outputs": [
    {
     "data": {
      "text/plain": [
       "dtype('float64')"
      ]
     },
     "execution_count": 24,
     "metadata": {},
     "output_type": "execute_result"
    }
   ],
   "source": [
    "df[\"Code UIC\"].dtype"
   ]
  },
  {
   "cell_type": "code",
   "execution_count": 25,
   "id": "ec0fe325-8a50-4575-862e-cf8416b06576",
   "metadata": {},
   "outputs": [
    {
     "name": "stdout",
     "output_type": "stream",
     "text": [
      "87111849.0\n",
      "87784009.0\n"
     ]
    }
   ],
   "source": [
    "print(df[\"Code UIC\"].min())\n",
    "print(df[\"Code UIC\"].max())"
   ]
  },
  {
   "cell_type": "code",
   "execution_count": 1,
   "id": "91bf94c0-75dd-4b92-949f-759b1b5294e2",
   "metadata": {},
   "outputs": [
    {
     "ename": "NameError",
     "evalue": "name 'df' is not defined",
     "output_type": "error",
     "traceback": [
      "\u001b[0;31m---------------------------------------------------------------------------\u001b[0m",
      "\u001b[0;31mNameError\u001b[0m                                 Traceback (most recent call last)",
      "Cell \u001b[0;32mIn[1], line 1\u001b[0m\n\u001b[0;32m----> 1\u001b[0m nb_gare_unique \u001b[38;5;241m=\u001b[39m \u001b[43mdf\u001b[49m[\u001b[38;5;124m\"\u001b[39m\u001b[38;5;124mGare\u001b[39m\u001b[38;5;124m\"\u001b[39m]\u001b[38;5;241m.\u001b[39mnunique()\n\u001b[1;32m      2\u001b[0m gare_unique \u001b[38;5;241m=\u001b[39m df[\u001b[38;5;124m\"\u001b[39m\u001b[38;5;124mGare\u001b[39m\u001b[38;5;124m\"\u001b[39m]\u001b[38;5;241m.\u001b[39munique()\n\u001b[1;32m      3\u001b[0m nb_Nature_objets \u001b[38;5;241m=\u001b[39m df[\u001b[38;5;124m\"\u001b[39m\u001b[38;5;124mNature d\u001b[39m\u001b[38;5;124m'\u001b[39m\u001b[38;5;124mobjets\u001b[39m\u001b[38;5;124m\"\u001b[39m]\u001b[38;5;241m.\u001b[39mnunique()\n",
      "\u001b[0;31mNameError\u001b[0m: name 'df' is not defined"
     ]
    }
   ],
   "source": [
    "nb_gare_unique = df[\"Gare\"].nunique()\n",
    "gare_unique = df[\"Gare\"].unique()\n",
    "nb_Nature_objets = df[\"Nature d'objets\"].nunique()\n",
    "nature_objet_unique = df[\"Nature d\\'objets\"].unique()\n",
    "nb_type_objets = df[\"Type d\\'objets\"].nunique()\n",
    "type_obj_unique = df[\"Type d\\'objets\"].unique()"
   ]
  },
  {
   "cell_type": "code",
   "execution_count": null,
   "id": "5b1c8048-8dd0-4c53-a0c1-c0d6ce635979",
   "metadata": {},
   "outputs": [],
   "source": [
    "print('Voici toutes les gares présentes dans la catégorie \"Gare\" du Data Frame :')\n",
    "# Pour afficher et enlever la liste dans le print. Compréhension de liste.\n",
    "[print(f\"- {gare}\") for gare in gare_unique]\n",
    "print(\"---\"*3)\n",
    "print(f'Voici le nombre de gare total : {nb_gare_unique}')"
   ]
  },
  {
   "cell_type": "code",
   "execution_count": null,
   "id": "3cba0e3f-0279-4d42-bd30-c5c71e5f2dea",
   "metadata": {},
   "outputs": [],
   "source": [
    "print('Voici toutes les natures des objets présentes dans la catégorie \"Nature Objet\" du Data Frame :')\n",
    "# Pour afficher et enlever la liste dans le print. Compréhension de liste.\n",
    "[print(f\"- {nature_objet}\") for nature_objet in nature_objet_unique]\n",
    "print(\"---\"*3)\n",
    "print(f'Voici le nombre de gare total : {nb_Nature_objets}')"
   ]
  },
  {
   "cell_type": "markdown",
   "id": "a66cd064-51f4-40a7-9040-bc6e0cadba74",
   "metadata": {},
   "source": [
    "## 4 - Affichage des données nulls par colonnes\n",
    ">Affiche le nom de colonnes et le nombres de données nulls (n'affiche que les nulls)"
   ]
  },
  {
   "cell_type": "code",
   "execution_count": 20,
   "id": "9888db6c-a739-476e-85e3-874ac3799758",
   "metadata": {},
   "outputs": [
    {
     "name": "stdout",
     "output_type": "stream",
     "text": [
      "Date et heure de restitution : 262303\n",
      "Gare : 139\n",
      "Code UIC : 139\n"
     ]
    }
   ],
   "source": [
    "for cols in df.columns:\n",
    "    if df[cols].isna().sum() > 0:\n",
    "        print(f\"{cols} : {df[cols].isna().sum()}\")"
   ]
  },
  {
   "cell_type": "markdown",
   "id": "f3c06066-650c-4d11-9095-ec64983f2388",
   "metadata": {},
   "source": [
    "Résumé : \n",
    "Les colonnes contenant des donnée nulls sont : \n",
    "- Date et heure de restitution : 262303\n",
    "- Gare : 139\n",
    "- Code UIC : 139"
   ]
  },
  {
   "cell_type": "markdown",
   "id": "a0cd22fc-cfe8-4f16-ae78-7685baf1d155",
   "metadata": {},
   "source": [
    "## 5 Cas d'usages"
   ]
  },
  {
   "cell_type": "markdown",
   "id": "205dce1c-2cc4-4914-8794-aef778a6e67d",
   "metadata": {},
   "source": [
    "#### 5.1 - Cas d'usage fichier :\n",
    "Pour commencer, il y a plusieurs possibilités à analyser notre base de données.\n",
    "Nous allons pouvoir analyser quel est le type d'objet le plus perdu que ce soit de manière général mais aussi par rapport à une période donnée. \n",
    "Il serait aussi possible de savoir combien de temps les objets prennent-ils à être récupérés par les propriétaires\n",
    "On pourra analyser le nombre d'objet perdu par mois/année/jour en fonction des gares\n",
    "Nous pourrons savoir le nombre de d'objet qui n'a pas été récupéré et combien d'objet à été récupéré.\n",
    "Dans quelle gare les individus perdent le plus leurs affaires personnels\n",
    "Savoir quel est la gare où les individus récupèrent le plus affaires mais aussi quelle gare est-ce que les individus récupèrent le moins"
   ]
  },
  {
   "cell_type": "markdown",
   "id": "4ea09b5a-ea26-4057-971c-ca554b9ddf6e",
   "metadata": {},
   "source": [
    "#### 5.2 - Cas d'usage avec un autre fichier : \n",
    "Est ce que les objets déclarés trouvés sont dans les objets déclarés perdus."
   ]
  },
  {
   "cell_type": "code",
   "execution_count": null,
   "id": "44b9e202-e25d-4120-98e4-0488f46cd466",
   "metadata": {},
   "outputs": [],
   "source": []
  }
 ],
 "metadata": {
  "kernelspec": {
   "display_name": "Python 3 (ipykernel)",
   "language": "python",
   "name": "python3"
  },
  "language_info": {
   "codemirror_mode": {
    "name": "ipython",
    "version": 3
   },
   "file_extension": ".py",
   "mimetype": "text/x-python",
   "name": "python",
   "nbconvert_exporter": "python",
   "pygments_lexer": "ipython3",
   "version": "3.12.1"
  }
 },
 "nbformat": 4,
 "nbformat_minor": 5
}
